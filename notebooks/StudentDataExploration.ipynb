{
  "cells": [
    {
      "cell_type": "markdown",
      "id": "bc8b75bb",
      "metadata": {},
      "source": [
        "# Student Mental Health Data Analysis\n",
        "\n",
        "This notebook demonstrates how to:\n",
        "1. **Load and Clean** the student mental health dataset using PySpark.\n",
        "2. **Perform Feature Engineering** (e.g., stress index, sleep category, normalization).\n",
        "3. **Run Various Analyses** (distribution, correlation, aggregations, risk analysis).\n",
        "4. **Visualize** the results in a more interactive/\"pretty\" manner using pandas, matplotlib, and seaborn.\n",
        "\n",
        "We’ll largely reuse the logic from your `main.py` code, but adapt it for an interactive notebook environment."
      ]
    },
    {
      "cell_type": "code",
      "execution_count": null,
      "id": "8dc4b19b",
      "metadata": {
        "executionInfo": {}
      },
      "outputs": [],
      "source": [
        "import sys\n",
        "import pandas as pd\n",
        "import matplotlib.pyplot as plt\n",
        "import seaborn as sns\n",
        "from pyspark.sql import SparkSession\n",
        "from pyspark.sql.functions import col, when, lit, avg, udf\n",
        "from pyspark.sql.types import FloatType, IntegerType\n",
        "from pyspark.sql import functions as F\n",
        "from pyspark.sql.types import (\n",
        "    StringType, StructType, StructField, DoubleType, IntegerType\n",
        ")\n",
        "\n",
        "sns.set_style(\"whitegrid\")  "
      ]
    },
    {
      "cell_type": "markdown",
      "id": "43cfc1cb",
      "metadata": {},
      "source": [
        "## 1. Creating the Spark Session"
      ]
    },
    {
      "cell_type": "code",
      "execution_count": null,
      "id": "7469532f",
      "metadata": {},
      "outputs": [],
      "source": [
        "def create_spark_session(app_name=\"StudentMentalHealth\"):\n",
        "    return (\n",
        "        SparkSession.builder\n",
        "        .appName(app_name)\n",
        "        .config(\"spark.sql.parquet.compression.codec\", \"snappy\")\n",
        "        .getOrCreate()\n",
        "    )\n",
        "\n",
        "spark = create_spark_session()"
      ]
    },
    {
      "cell_type": "markdown",
      "id": "fea7d0dd",
      "metadata": {},
      "source": [
        "## 2. Define Schema & Helper Functions\n",
        "\n",
        "We’ll define the schema and helper functions (mostly copied over from your `main.py`)."
      ]
    },
    {
      "cell_type": "code",
      "execution_count": null,
      "id": "47b4a07b",
      "metadata": {},
      "outputs": [],
      "source": [
        "\n",
        "schema = StructType([\n",
        "    StructField(\"id\", IntegerType(), True),\n",
        "    StructField(\"Gender\", StringType(), True),\n",
        "    StructField(\"Age\", DoubleType(), True),\n",
        "    StructField(\"City\", StringType(), True),\n",
        "    StructField(\"Profession\", StringType(), True),\n",
        "    StructField(\"Academic Pressure\", DoubleType(), True),\n",
        "    StructField(\"Work Pressure\", DoubleType(), True),\n",
        "    StructField(\"CGPA\", DoubleType(), True),\n",
        "    StructField(\"Study Satisfaction\", DoubleType(), True),\n",
        "    StructField(\"Job Satisfaction\", DoubleType(), True),\n",
        "    StructField(\"Sleep Duration\", StringType(), True),  \n",
        "    StructField(\"Dietary Habits\", StringType(), True),\n",
        "    StructField(\"Degree\", StringType(), True),\n",
        "    StructField(\"Have you ever had suicidal thoughts ?\", StringType(), True),\n",
        "    StructField(\"Work/Study Hours\", DoubleType(), True),\n",
        "    StructField(\"Financial Stress\", DoubleType(), True),\n",
        "    StructField(\"Family History of Mental Illness\", StringType(), True),\n",
        "    StructField(\"Depression\", IntegerType(), True),\n",
        "])\n",
        "\n",
        "def load_data(spark, input_path: str):\n",
        "    try:\n",
        "        df = (\n",
        "            spark.read\n",
        "            .option(\"header\", \"true\")\n",
        "            .schema(schema)\n",
        "            .csv(input_path)\n",
        "        )\n",
        "        return df\n",
        "    except Exception as e:\n",
        "        print(f\"Error loading data: {e}\")\n",
        "        sys.exit(1)\n",
        "\n",
        "def clean_data(df):\n",
        "    \"\"\"\n",
        "    Handle missing values, remove inconsistent or out-of-range values,\n",
        "    convert Sleep Duration to numeric, etc.\n",
        "    Returns cleaned DataFrame.\n",
        "    \"\"\"\n",
        "    \n",
        "    df = df.dropna(subset=[\"Sleep Duration\", \"Age\"])\n",
        "\n",
        "    \n",
        "    df = df.withColumn(\"Sleep Duration\", col(\"Sleep Duration\").cast(FloatType()))\n",
        "\n",
        "    \n",
        "    df = df.filter(col(\"Sleep Duration\") <= 24).filter(col(\"Sleep Duration\") >= 0)\n",
        "    df = df.filter(col(\"Age\") > 0)\n",
        "    return df\n",
        "\n",
        "def report_data_quality(df):\n",
        "    \"\"\"\n",
        "    Print out data quality metrics: null counts, basic statistics.\n",
        "    \"\"\"\n",
        "    \n",
        "    for c in df.columns:\n",
        "        null_count = df.filter(col(c).isNull()).count()\n",
        "        print(f\"{c}: {null_count} nulls\")\n",
        "\n",
        "    \n",
        "    numeric_cols = [f.name for f in df.schema.fields if f.dataType in [FloatType(), IntegerType()]]\n",
        "    df.select(numeric_cols).describe().show()\n",
        "\n",
        "def feature_engineering(df):\n",
        "    \"\"\"\n",
        "    Create new columns, e.g. stress_index, sleep_category, age_group,\n",
        "    normalized columns, and dummy variables.\n",
        "    \"\"\"\n",
        "    \n",
        "    df = df.withColumn(\n",
        "        \"stress_index\",\n",
        "        (col(\"Academic Pressure\") + col(\"Work Pressure\") + col(\"Financial Stress\")) / lit(3.0)\n",
        "    )\n",
        "\n",
        "    \n",
        "    df = df.withColumn(\n",
        "        \"sleep_category\",\n",
        "        when(col(\"Sleep Duration\") < 6, lit(\"Low\"))\n",
        "        .when((col(\"Sleep Duration\") >= 6) & (col(\"Sleep Duration\") <= 8), lit(\"Normal\"))\n",
        "        .otherwise(lit(\"High\"))\n",
        "    )\n",
        "\n",
        "   \n",
        "    df = df.withColumn(\n",
        "        \"age_group\",\n",
        "        when((col(\"Age\") >= 18) & (col(\"Age\") <= 21), lit(\"18-21\"))\n",
        "        .when((col(\"Age\") >= 22) & (col(\"Age\") <= 25), lit(\"22-25\"))\n",
        "        .when((col(\"Age\") >= 26) & (col(\"Age\") <= 30), lit(\"26-30\"))\n",
        "        .otherwise(lit(\">30\"))\n",
        "    )\n",
        "\n",
        "    \n",
        "    numeric_cols = [\"CGPA\", \"Depression\", \"stress_index\"]\n",
        "    stats = df.select(\n",
        "        *[F.min(c).alias(f\"{c}_min\") for c in numeric_cols],\n",
        "        *[F.max(c).alias(f\"{c}_max\") for c in numeric_cols]\n",
        "    ).collect()[0]\n",
        "\n",
        "    for c in numeric_cols:\n",
        "        min_val = stats[f\"{c}_min\"]\n",
        "        max_val = stats[f\"{c}_max\"]\n",
        "        if min_val != max_val:\n",
        "            df = df.withColumn(f\"{c}_normalized\", (col(c) - lit(min_val)) / (lit(max_val - min_val)))\n",
        "        else:\n",
        "            df = df.withColumn(f\"{c}_normalized\", lit(0.0))\n",
        "\n",
        "    \n",
        "    categories = [row[0] for row in df.select(\"Gender\").distinct().collect()]\n",
        "    for cat in categories:\n",
        "        df = df.withColumn(\n",
        "            f\"Gender_{cat}\",\n",
        "            when(col(\"Gender\") == cat, lit(1)).otherwise(lit(0))\n",
        "        )\n",
        "\n",
        "    return df\n",
        "\n",
        "def distribution_analysis(df):\n",
        "    \"\"\"\n",
        "    1) Depression scores by age group and profession\n",
        "    2) CGPA stats by sleep category\n",
        "    Return DataFrames for saving or further analysis.\n",
        "    \"\"\"\n",
        "    dep_by_demo = df.groupBy(\"age_group\", \"Profession\") \\\n",
        "                    .agg(F.avg(\"Depression\").alias(\"avg_depression\"))\n",
        "\n",
        "    cgpa_by_sleep = df.groupBy(\"sleep_category\") \\\n",
        "                      .agg(F.avg(\"CGPA\").alias(\"avg_cgpa\"),\n",
        "                           F.stddev(\"CGPA\").alias(\"stddev_cgpa\"))\n",
        "\n",
        "    return dep_by_demo, cgpa_by_sleep\n",
        "\n",
        "def correlation_analysis(df):\n",
        "    \"\"\"\n",
        "    - Compute correlation among numeric columns\n",
        "    - Top 5 factors correlated with Depression\n",
        "    \"\"\"\n",
        "    numeric_cols = [f.name for f in df.schema.fields if f.dataType in [FloatType(), IntegerType()]]\n",
        "    corr_rows = []\n",
        "    for i in range(len(numeric_cols)):\n",
        "        for j in range(i+1, len(numeric_cols)):\n",
        "            col1 = numeric_cols[i]\n",
        "            col2 = numeric_cols[j]\n",
        "            corr_val = df.stat.corr(col1, col2)\n",
        "            corr_rows.append((col1, col2, corr_val))\n",
        "\n",
        "    correlation_df = df.sparkSession.createDataFrame(\n",
        "        corr_rows, [\"column1\", \"column2\", \"correlation\"]\n",
        "    )\n",
        "\n",
        "    \n",
        "    depression_corr = correlation_df \\\n",
        "        .filter((F.col(\"column1\") == \"Depression\") | (F.col(\"column2\") == \"Depression\")) \\\n",
        "        .withColumn(\"abs_corr\", F.abs(F.col(\"correlation\"))) \\\n",
        "        .orderBy(F.col(\"abs_corr\").desc())\n",
        "\n",
        "    top5_dep_corr = depression_corr.limit(5)\n",
        "\n",
        "    return correlation_df, top5_dep_corr\n",
        "\n",
        "def aggregations(df):\n",
        "    \"\"\"\n",
        "    - Depression scores aggregated by city and degree\n",
        "    - Stress index by age group and gender\n",
        "    - Academic performance by sleep category\n",
        "    \"\"\"\n",
        "    city_degree_stats = df.groupBy(\"City\", \"Degree\") \\\n",
        "                          .agg(F.avg(\"Depression\").alias(\"avg_depression\"),\n",
        "                               F.count(\"*\").alias(\"count_students\"))\n",
        "\n",
        "    demographic_stress = df.groupBy(\"age_group\", \"Gender\") \\\n",
        "                           .agg(F.avg(\"stress_index\").alias(\"avg_stress_index\"))\n",
        "\n",
        "    sleep_performance = df.groupBy(\"sleep_category\") \\\n",
        "                          .agg(F.avg(\"CGPA\").alias(\"avg_cgpa\"),\n",
        "                               F.avg(\"Academic Pressure\").alias(\"avg_academic_score\"))\n",
        "\n",
        "    return city_degree_stats, demographic_stress, sleep_performance\n",
        "\n",
        "def risk_analysis(df):\n",
        "    \"\"\"\n",
        "    Identify high-risk students based on thresholds\n",
        "    Returns a DataFrame of flagged students.\n",
        "    \"\"\"\n",
        "    high_risk_df = df.filter(\n",
        "        (col(\"stress_index_normalized\") > 0.7) |\n",
        "        (col(\"Sleep Duration\") < 5) |\n",
        "        (col(\"Financial Stress\") > 7)\n",
        "    ).withColumn(\"risk_reason\", lit(\"Stress or Poor Sleep or High Financial Stress\"))\n",
        "    return high_risk_df\n",
        "\n",
        "\n",
        "@udf(returnType=StringType())\n",
        "def my_custom_udf(value):\n",
        "    return \"transformed_value\"\n"
      ]
    },
    {
      "cell_type": "markdown",
      "id": "4872fab4",
      "metadata": {},
      "source": [
        "## 3. Load & Clean the Data\n",
        "\n",
        "Change the `INPUT_PATH` to the location of your CSV."
      ]
    },
    {
      "cell_type": "code",
      "execution_count": null,
      "id": "4c225bf3",
      "metadata": {},
      "outputs": [],
      "source": [
        "INPUT_PATH = \"src/data/StudentDepressionDataset.csv\"  \n",
        "\n",
        "\n",
        "raw_df = load_data(spark, INPUT_PATH)\n",
        "\n",
        "\n",
        "cleaned_df = clean_data(raw_df)\n",
        "\n",
        "\n",
        "report_data_quality(cleaned_df)\n",
        "\n",
        "print(\"\\nNumber of rows (cleaned):\", cleaned_df.count())"
      ]
    },
    {
      "cell_type": "markdown",
      "id": "7f42fd42",
      "metadata": {},
      "source": [
        "## 4. Feature Engineering"
      ]
    },
    {
      "cell_type": "code",
      "execution_count": null,
      "id": "19ac6aa3",
      "metadata": {},
      "outputs": [],
      "source": [
        "feat_df = feature_engineering(cleaned_df)\n",
        "print(\"Feature engineering done.\")\n",
        "print(\"Number of rows (featured):\", feat_df.count())\n"
      ]
    },
    {
      "cell_type": "markdown",
      "id": "f495ef51",
      "metadata": {},
      "source": [
        "## 5. Distribution Analysis\n",
        "\n",
        "1. **Depression scores by age group and profession**\n",
        "2. **CGPA stats by sleep category**\n",
        "\n",
        "We’ll collect these small results into Pandas and visualize."
      ]
    },
    {
      "cell_type": "code",
      "execution_count": null,
      "id": "80a5c800",
      "metadata": {},
      "outputs": [],
      "source": [
        "dep_by_demo_df, cgpa_by_sleep_df = distribution_analysis(feat_df)\n",
        "\n",
        "\n",
        "dep_by_demo_pd = dep_by_demo_df.toPandas()\n",
        "cgpa_by_sleep_pd = cgpa_by_sleep_df.toPandas()\n",
        "\n",
        "dep_by_demo_pd.head()"
      ]
    },
    {
      "cell_type": "markdown",
      "id": "c513ee5b",
      "metadata": {},
      "source": [
        "### 5.1 Bar Plot: Depression by Age Group & Profession\n",
        "\n",
        "We can create a grouped bar chart showing average depression by profession within each age group."
      ]
    },
    {
      "cell_type": "code",
      "execution_count": null,
      "id": "302a8842",
      "metadata": {},
      "outputs": [],
      "source": [
        "\n",
        "\n",
        "plt.figure(figsize=(10, 6))\n",
        "sns.barplot(\n",
        "    data=dep_by_demo_pd,\n",
        "    x=\"age_group\", y=\"avg_depression\", hue=\"Profession\"\n",
        ")\n",
        "plt.title(\"Average Depression by Age Group & Profession\")\n",
        "plt.ylabel(\"Average Depression\")\n",
        "plt.xlabel(\"Age Group\")\n",
        "plt.legend(title=\"Profession\", bbox_to_anchor=(1.05, 1), loc='upper left')\n",
        "plt.tight_layout()\n",
        "plt.show()"
      ]
    },
    {
      "cell_type": "markdown",
      "id": "cd9c625f",
      "metadata": {},
      "source": [
        "### 5.2 CGPA by Sleep Category\n",
        "\n",
        "We can plot a bar chart or a boxplot for CGPA by sleep category."
      ]
    },
    {
      "cell_type": "code",
      "execution_count": null,
      "id": "4c8de122",
      "metadata": {},
      "outputs": [],
      "source": [
        "\n",
        "\n",
        "plt.figure(figsize=(6, 4))\n",
        "sns.barplot(\n",
        "    data=cgpa_by_sleep_pd,\n",
        "    x=\"sleep_category\", y=\"avg_cgpa\"\n",
        ")\n",
        "plt.title(\"Average CGPA by Sleep Category\")\n",
        "plt.xlabel(\"Sleep Category\")\n",
        "plt.ylabel(\"Average CGPA\")\n",
        "plt.show()"
      ]
    },
    {
      "cell_type": "markdown",
      "id": "dc5b3d96",
      "metadata": {},
      "source": [
        "## 6. Correlation Analysis\n",
        "\n",
        "- Compute correlation matrix among numeric columns.\n",
        "- Identify top 5 factors correlated with depression."
      ]
    },
    {
      "cell_type": "code",
      "execution_count": null,
      "id": "dcdae872",
      "metadata": {},
      "outputs": [],
      "source": [
        "corr_matrix_df, top5_dep_corr_df = correlation_analysis(feat_df)\n",
        "\n",
        "\n",
        "corr_pdf = corr_matrix_df.toPandas()\n",
        "top5_dep_corr_pdf = top5_dep_corr_df.toPandas()\n",
        "\n",
        "print(\"Top 5 correlations with Depression:\")\n",
        "display(top5_dep_corr_pdf)"
      ]
    },
    {
      "cell_type": "markdown",
      "id": "f9d5b1e7",
      "metadata": {},
      "source": [
        "### 6.1 Heatmap of Correlations\n",
        "\n",
        "We’ll pivot the `corr_pdf` table into a full matrix and plot a heatmap. Note that this approach works well if we have a manageable number of numeric columns. For large sets, you may need sampling or other approaches."
      ]
    },
    {
      "cell_type": "code",
      "execution_count": null,
      "id": "d6d9d4f8",
      "metadata": {},
      "outputs": [],
      "source": [
        "\n",
        "all_numeric_cols = set(list(corr_pdf['column1'].unique()) + list(corr_pdf['column2'].unique()))\n",
        "all_numeric_cols = sorted(list(all_numeric_cols))\n",
        "\n",
        "import numpy as np\n",
        "\n",
        "\n",
        "n = len(all_numeric_cols)\n",
        "corr_matrix = np.full((n, n), np.nan)\n",
        "\n",
        "\n",
        "for idx, row in corr_pdf.iterrows():\n",
        "    c1 = row['column1']\n",
        "    c2 = row['column2']\n",
        "    val = row['correlation']\n",
        "    i = all_numeric_cols.index(c1)\n",
        "    j = all_numeric_cols.index(c2)\n",
        "    corr_matrix[i, j] = val\n",
        "    corr_matrix[j, i] = val\n",
        "\n",
        "\n",
        "for i in range(n):\n",
        "    corr_matrix[i, i] = 1.0\n",
        "\n",
        "plt.figure(figsize=(8,6))\n",
        "sns.heatmap(\n",
        "    corr_matrix,\n",
        "    xticklabels=all_numeric_cols,\n",
        "    yticklabels=all_numeric_cols,\n",
        "    cmap=\"coolwarm\",\n",
        "    annot=True,\n",
        "    fmt=\".2f\"\n",
        ")\n",
        "plt.title(\"Correlation Heatmap\")\n",
        "plt.tight_layout()\n",
        "plt.show()"
      ]
    },
    {
      "cell_type": "markdown",
      "id": "54feb7a5",
      "metadata": {},
      "source": [
        "## 7. Aggregations\n",
        "\n",
        "1. **Depression by city and degree**\n",
        "2. **Stress by age group and gender**\n",
        "3. **Academic performance by sleep category**\n"
      ]
    },
    {
      "cell_type": "code",
      "execution_count": null,
      "id": "586b445b",
      "metadata": {},
      "outputs": [],
      "source": [
        "city_degree_df, demo_stress_df, sleep_perf_df = aggregations(feat_df)\n",
        "\n",
        "city_degree_pd = city_degree_df.toPandas()\n",
        "demo_stress_pd = demo_stress_df.toPandas()\n",
        "sleep_perf_pd = sleep_perf_df.toPandas()\n",
        "\n",
        "city_degree_pd.head()"
      ]
    },
    {
      "cell_type": "markdown",
      "id": "53e11f97",
      "metadata": {},
      "source": [
        "### 7.1 Plot: Average Depression by City & Degree"
      ]
    },
    {
      "cell_type": "code",
      "execution_count": null,
      "id": "d56d2623",
      "metadata": {},
      "outputs": [],
      "source": [
        "plt.figure(figsize=(10, 6))\n",
        "sns.barplot(data=city_degree_pd, x=\"City\", y=\"avg_depression\", hue=\"Degree\")\n",
        "plt.title(\"Average Depression by City & Degree\")\n",
        "plt.xticks(rotation=45)\n",
        "plt.legend(title=\"Degree\", bbox_to_anchor=(1.05, 1), loc='upper left')\n",
        "plt.tight_layout()\n",
        "plt.show()"
      ]
    },
    {
      "cell_type": "markdown",
      "id": "20cfdc61",
      "metadata": {},
      "source": [
        "### 7.2 Stress by Age Group and Gender"
      ]
    },
    {
      "cell_type": "code",
      "execution_count": null,
      "id": "bceb878f",
      "metadata": {},
      "outputs": [],
      "source": [
        "plt.figure(figsize=(8, 5))\n",
        "sns.barplot(data=demo_stress_pd, x=\"age_group\", y=\"avg_stress_index\", hue=\"Gender\")\n",
        "plt.title(\"Average Stress Index by Age Group & Gender\")\n",
        "plt.xlabel(\"Age Group\")\n",
        "plt.ylabel(\"Average Stress Index\")\n",
        "plt.legend(title=\"Gender\", bbox_to_anchor=(1.05, 1), loc='upper left')\n",
        "plt.tight_layout()\n",
        "plt.show()"
      ]
    },
    {
      "cell_type": "markdown",
      "id": "5132d60b",
      "metadata": {},
      "source": [
        "### 7.3 Academic Performance by Sleep Category"
      ]
    },
    {
      "cell_type": "code",
      "execution_count": null,
      "id": "6a319c9d",
      "metadata": {},
      "outputs": [],
      "source": [
        "plt.figure(figsize=(6,4))\n",
        "sns.barplot(data=sleep_perf_pd, x=\"sleep_category\", y=\"avg_cgpa\")\n",
        "plt.title(\"Average CGPA by Sleep Category\")\n",
        "plt.xlabel(\"Sleep Category\")\n",
        "plt.ylabel(\"Average CGPA\")\n",
        "plt.show()\n",
        "\n",
        "plt.figure(figsize=(6,4))\n",
        "sns.barplot(data=sleep_perf_pd, x=\"sleep_category\", y=\"avg_academic_score\")\n",
        "plt.title(\"Average Academic Pressure by Sleep Category\")\n",
        "plt.xlabel(\"Sleep Category\")\n",
        "plt.ylabel(\"Average Academic Pressure\")\n",
        "plt.show()"
      ]
    },
    {
      "cell_type": "markdown",
      "id": "dd11d791",
      "metadata": {},
      "source": [
        "## 8. Risk Analysis\n",
        "\n",
        "Identifying high-risk students based on stress_index, sleep duration, and financial stress."
      ]
    },
    {
      "cell_type": "code",
      "execution_count": null,
      "id": "811d64e4",
      "metadata": {},
      "outputs": [],
      "source": [
        "high_risk_df = risk_analysis(feat_df)\n",
        "high_risk_pdf = high_risk_df.toPandas()\n",
        "\n",
        "print(f\"Number of high-risk students: {len(high_risk_pdf)}\")\n",
        "high_risk_pdf.head()"
      ]
    },
    {
      "cell_type": "markdown",
      "id": "0bee5262",
      "metadata": {},
      "source": [
        "We could, for example, look at a distribution of `stress_index_normalized` among high-risk students."
      ]
    },
    {
      "cell_type": "code",
      "execution_count": null,
      "id": "4108dd08",
      "metadata": {},
      "outputs": [],
      "source": [
        "plt.figure(figsize=(6,4))\n",
        "sns.histplot(data=high_risk_pdf, x=\"stress_index_normalized\", bins=20, kde=True)\n",
        "plt.title(\"Distribution of Stress Index (Normalized) - High Risk\")\n",
        "plt.xlabel(\"Stress Index (Normalized)\")\n",
        "plt.ylabel(\"Count\")\n",
        "plt.show()"
      ]
    },
    {
      "cell_type": "markdown",
      "id": "5f8d8f5e",
      "metadata": {},
      "source": [
        "## 9. Cleanup\n",
        "\n",
        "It's often good practice to **stop** your Spark session at the end of the notebook if you don't need it anymore."
      ]
    },
    {
      "cell_type": "code",
      "execution_count": null,
      "id": "1d537d36",
      "metadata": {},
      "outputs": [],
      "source": [
        "\n",
        "spark.stop()\n",
        "print(\"Spark session stopped.\")"
      ]
    }
  ],
  "metadata": {
    "kernelspec": {
      "display_name": "Python 3",
      "language": "python",
      "name": "python3"
    },
    "language_info": {
      "name": "python"
    },
    "name": "StudentMentalHealth"
  },
  "nbformat": 4,
  "nbformat_minor": 5
}
